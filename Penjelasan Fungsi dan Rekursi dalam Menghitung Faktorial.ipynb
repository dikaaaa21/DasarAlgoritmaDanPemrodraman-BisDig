{
  "nbformat": 4,
  "nbformat_minor": 0,
  "metadata": {
    "colab": {
      "provenance": []
    },
    "kernelspec": {
      "name": "python3",
      "display_name": "Python 3"
    },
    "language_info": {
      "name": "python"
    }
  },
  "cells": [
    {
      "cell_type": "markdown",
      "source": [
        "membuat fungsi untuk menghitung faktorial dari suatu bilangan menggunakan metode rekursif.\n"
      ],
      "metadata": {
        "id": "bDzeatj4x8Io"
      }
    },
    {
      "cell_type": "code",
      "execution_count": 1,
      "metadata": {
        "colab": {
          "base_uri": "https://localhost:8080/"
        },
        "id": "SCNf1Ukrx5ur",
        "outputId": "1b392830-6733-414c-9e53-4b720490dbf3"
      },
      "outputs": [
        {
          "output_type": "stream",
          "name": "stdout",
          "text": [
            "Masukkan angka untuk dihitung faktorialnya: 21\n",
            "21! = 51090942171709440000\n"
          ]
        }
      ],
      "source": [
        "def faktorial(n):\n",
        "    if n == 0 or n == 1:  # Base case\n",
        "        return 1\n",
        "    else:\n",
        "        return n * faktorial(n - 1)  # Recursive case\n",
        "\n",
        "# Input dari pengguna\n",
        "angka = int(input(\"Masukkan angka untuk dihitung faktorialnya: \"))\n",
        "hasil = faktorial(angka)\n",
        "print(f\"{angka}! = {hasil}\")"
      ]
    }
  ]
}