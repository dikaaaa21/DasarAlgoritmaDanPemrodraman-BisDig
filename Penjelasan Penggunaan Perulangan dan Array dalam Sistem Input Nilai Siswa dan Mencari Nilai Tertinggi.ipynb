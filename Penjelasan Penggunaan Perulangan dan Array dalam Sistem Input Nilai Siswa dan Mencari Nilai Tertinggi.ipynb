{
  "nbformat": 4,
  "nbformat_minor": 0,
  "metadata": {
    "colab": {
      "provenance": []
    },
    "kernelspec": {
      "name": "python3",
      "display_name": "Python 3"
    },
    "language_info": {
      "name": "python"
    }
  },
  "cells": [
    {
      "cell_type": "markdown",
      "source": [
        "membuat sistem input nilai 5 siswa dan mencari nilai tertinggi.\n"
      ],
      "metadata": {
        "id": "32eVJwF80q8i"
      }
    },
    {
      "cell_type": "code",
      "execution_count": 1,
      "metadata": {
        "colab": {
          "base_uri": "https://localhost:8080/"
        },
        "id": "jdUjTeiz0jRr",
        "outputId": "96a86603-c282-444d-d5d0-c7d25e388d61"
      },
      "outputs": [
        {
          "output_type": "stream",
          "name": "stdout",
          "text": [
            "Masukkan nilai siswa ke-1: 87\n",
            "Masukkan nilai siswa ke-2: 93\n",
            "Masukkan nilai siswa ke-3: 89\n",
            "Masukkan nilai siswa ke-4: 83\n",
            "Masukkan nilai siswa ke-5: 91\n",
            "Nilai tertinggi adalah 93.0, diperoleh oleh siswa ke-2.\n"
          ]
        }
      ],
      "source": [
        "# Membuat list kosong untuk menyimpan nilai siswa\n",
        "nilai_siswa = []\n",
        "\n",
        "# Menggunakan perulangan untuk input nilai 5 siswa\n",
        "for i in range(5):\n",
        "    nilai = float(input(f\"Masukkan nilai siswa ke-{i+1}: \"))\n",
        "    nilai_siswa.append(nilai)\n",
        "\n",
        "# Mencari nilai tertinggi dan indeks siswa yang mendapatkannya\n",
        "nilai_tertinggi = max(nilai_siswa)\n",
        "index_tertinggi = nilai_siswa.index(nilai_tertinggi) + 1  # +1 agar sesuai nomor siswa\n",
        "\n",
        "# Menampilkan hasil\n",
        "print(f\"Nilai tertinggi adalah {nilai_tertinggi}, diperoleh oleh siswa ke-{index_tertinggi}.\")"
      ]
    }
  ]
}