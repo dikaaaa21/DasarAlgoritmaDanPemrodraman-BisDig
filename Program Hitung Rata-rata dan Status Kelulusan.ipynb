{
  "nbformat": 4,
  "nbformat_minor": 0,
  "metadata": {
    "colab": {
      "provenance": []
    },
    "kernelspec": {
      "name": "python3",
      "display_name": "Python 3"
    },
    "language_info": {
      "name": "python"
    }
  },
  "cells": [
    {
      "cell_type": "markdown",
      "source": [
        "siswa ingin mengetahui apakah nilai ujiannya memenuhi syarat lulus berdasarkan rata-rata nilai dari 3 mata pelajaran.\n",
        "\n"
      ],
      "metadata": {
        "id": "MTk0RLQB3AlP"
      }
    },
    {
      "cell_type": "code",
      "execution_count": 1,
      "metadata": {
        "colab": {
          "base_uri": "https://localhost:8080/"
        },
        "id": "iAHXe33z26ow",
        "outputId": "2d5da151-b17e-4895-d653-0f8fe75643e6"
      },
      "outputs": [
        {
          "output_type": "stream",
          "name": "stdout",
          "text": [
            "Masukkan nilai mata pelajaran 1: 98\n",
            "Masukkan nilai mata pelajaran 2: 87\n",
            "Masukkan nilai mata pelajaran 3: 95\n",
            "Rata-rata nilai: 93.33\n",
            "Status kelulusan: Lulus\n"
          ]
        }
      ],
      "source": [
        "# Program menghitung rata-rata nilai dan menentukan status kelulusan\n",
        "\n",
        "# Input nilai dari tiga mata pelajaran\n",
        "nilai1 = int(input(\"Masukkan nilai mata pelajaran 1: \"))\n",
        "nilai2 = int(input(\"Masukkan nilai mata pelajaran 2: \"))\n",
        "nilai3 = int(input(\"Masukkan nilai mata pelajaran 3: \"))\n",
        "\n",
        "# Hitung rata-rata\n",
        "rata_rata = (nilai1 + nilai2 + nilai3) / 3\n",
        "\n",
        "# Tentukan status kelulusan\n",
        "if rata_rata >= 75:\n",
        "    status = \"Lulus\"\n",
        "else:\n",
        "    status = \"Tidak Lulus\"\n",
        "\n",
        "# Tampilkan hasil\n",
        "print(f\"Rata-rata nilai: {rata_rata:.2f}\")\n",
        "print(f\"Status kelulusan: {status}\")"
      ]
    }
  ]
}