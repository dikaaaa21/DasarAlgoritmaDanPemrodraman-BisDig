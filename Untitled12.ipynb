{
  "nbformat": 4,
  "nbformat_minor": 0,
  "metadata": {
    "colab": {
      "provenance": []
    },
    "kernelspec": {
      "name": "python3",
      "display_name": "Python 3"
    },
    "language_info": {
      "name": "python"
    }
  },
  "cells": [
    {
      "cell_type": "markdown",
      "source": [
        "Dalam sistem e-commerce, pelanggan mendapatkan diskon 10% jika belanja di atas Rp500.000.\n"
      ],
      "metadata": {
        "id": "7xl7u4ai16Sc"
      }
    },
    {
      "cell_type": "code",
      "execution_count": 1,
      "metadata": {
        "colab": {
          "base_uri": "https://localhost:8080/"
        },
        "id": "QKCcMAic1oth",
        "outputId": "2f9ac5e0-a883-4da5-be54-f13ab1d911c8"
      },
      "outputs": [
        {
          "output_type": "stream",
          "name": "stdout",
          "text": [
            "Masukkan total belanja Anda (Rp): 1000000\n",
            "Selamat! Anda mendapatkan diskon 10% sebesar Rp100,000.\n",
            "Total yang harus dibayar: Rp900,000\n"
          ]
        }
      ],
      "source": [
        "def hitung_total_bayar(total_belanja):\n",
        "    if total_belanja > 500000:\n",
        "        diskon = 0.10 * total_belanja\n",
        "        total_bayar = total_belanja - diskon\n",
        "        print(f\"Selamat! Anda mendapatkan diskon 10% sebesar Rp{diskon:,.0f}.\")\n",
        "    else:\n",
        "        total_bayar = total_belanja\n",
        "        print(\"Maaf, Anda tidak mendapatkan diskon.\")\n",
        "    return total_bayar\n",
        "\n",
        "# Input dari pengguna\n",
        "total_belanja = float(input(\"Masukkan total belanja Anda (Rp): \"))\n",
        "\n",
        "# Hitung total bayar\n",
        "total_bayar = hitung_total_bayar(total_belanja)\n",
        "\n",
        "# Tampilkan hasil\n",
        "print(f\"Total yang harus dibayar: Rp{total_bayar:,.0f}\")"
      ]
    }
  ]
}