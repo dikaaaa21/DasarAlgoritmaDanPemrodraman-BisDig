{
  "nbformat": 4,
  "nbformat_minor": 0,
  "metadata": {
    "colab": {
      "provenance": []
    },
    "kernelspec": {
      "name": "python3",
      "display_name": "Python 3"
    },
    "language_info": {
      "name": "python"
    }
  },
  "cells": [
    {
      "cell_type": "markdown",
      "source": [
        "Seorang kasir toko ingin sistem sederhana untuk menghitung total harga pembelian 3 barang dan menampilkan totalnya.\n"
      ],
      "metadata": {
        "id": "s_zgaZE530CG"
      }
    },
    {
      "cell_type": "code",
      "execution_count": 1,
      "metadata": {
        "colab": {
          "base_uri": "https://localhost:8080/"
        },
        "id": "pDKdL8zo3qhE",
        "outputId": "18fac9fe-1d9f-47f7-9e55-ca03764e1270"
      },
      "outputs": [
        {
          "output_type": "stream",
          "name": "stdout",
          "text": [
            "Masukkan harga barang 1: 60000\n",
            "Masukkan harga barang 2: 95999\n",
            "Masukkan harga barang 3: 79999\n",
            "Total harga pembelian: Rp235998.00\n"
          ]
        }
      ],
      "source": [
        "# Program menghitung total harga pembelian 3 barang\n",
        "\n",
        "# Input harga barang\n",
        "harga1 = float(input(\"Masukkan harga barang 1: \"))\n",
        "harga2 = float(input(\"Masukkan harga barang 2: \"))\n",
        "harga3 = float(input(\"Masukkan harga barang 3: \"))\n",
        "\n",
        "# Hitung total harga\n",
        "total_harga = harga1 + harga2 + harga3\n",
        "\n",
        "# Tampilkan total pembayaran\n",
        "print(f\"Total harga pembelian: Rp{total_harga:.2f}\")\n"
      ]
    }
  ]
}